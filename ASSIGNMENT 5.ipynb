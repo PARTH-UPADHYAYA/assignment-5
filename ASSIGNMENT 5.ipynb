{
 "cells": [
  {
   "cell_type": "markdown",
   "metadata": {},
   "source": [
    "### Q 1"
   ]
  },
  {
   "cell_type": "code",
   "execution_count": 5,
   "metadata": {},
   "outputs": [
    {
     "name": "stdout",
     "output_type": "stream",
     "text": [
      "192\n"
     ]
    }
   ],
   "source": [
    "int_list=[[1,2,3],[4,2,6],[5,6,7],[67,89]]\n",
    "sum=0\n",
    "for x in int_list:\n",
    "    for y in x:\n",
    "        sum+=y\n",
    "print(sum)"
   ]
  },
  {
   "cell_type": "markdown",
   "metadata": {},
   "source": [
    "### Q 2"
   ]
  },
  {
   "cell_type": "code",
   "execution_count": 7,
   "metadata": {},
   "outputs": [
    {
     "name": "stdout",
     "output_type": "stream",
     "text": [
      "product is\n",
      "360642240\n",
      "\n",
      "the difference between product and sum is\n",
      "360642048\n"
     ]
    }
   ],
   "source": [
    "product=1\n",
    "for i in int_list:\n",
    "    for j in i:\n",
    "        product*=j\n",
    "print(\"product is\")\n",
    "print(product)\n",
    "print()\n",
    "print(\"the difference between product and sum is\")\n",
    "print(product-sum)"
   ]
  },
  {
   "cell_type": "markdown",
   "metadata": {},
   "source": [
    "## Q 3"
   ]
  },
  {
   "cell_type": "code",
   "execution_count": 18,
   "metadata": {},
   "outputs": [
    {
     "name": "stdout",
     "output_type": "stream",
     "text": [
      "[[1], [1, 2], [1, 2, 3], [1, 2, 3, 4], [1, 2, 3, 4, 5], [1, 2, 3, 4, 5, 6]]\n"
     ]
    }
   ],
   "source": [
    "li=[]\n",
    "p=6\n",
    "for x in range(1,p+1):\n",
    "    li1=[]\n",
    "    for y in range(1,x+1):\n",
    "        li1.append(y)\n",
    "    li.append(li1)\n",
    "print(li)"
   ]
  },
  {
   "cell_type": "code",
   "execution_count": null,
   "metadata": {},
   "outputs": [],
   "source": []
  }
 ],
 "metadata": {
  "kernelspec": {
   "display_name": "Python 3",
   "language": "python",
   "name": "python3"
  },
  "language_info": {
   "codemirror_mode": {
    "name": "ipython",
    "version": 3
   },
   "file_extension": ".py",
   "mimetype": "text/x-python",
   "name": "python",
   "nbconvert_exporter": "python",
   "pygments_lexer": "ipython3",
   "version": "3.8.3"
  }
 },
 "nbformat": 4,
 "nbformat_minor": 4
}
